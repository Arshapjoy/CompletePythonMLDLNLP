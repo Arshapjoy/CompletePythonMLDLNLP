{
 "cells": [
  {
   "cell_type": "code",
   "execution_count": 1,
   "metadata": {},
   "outputs": [],
   "source": [
    "a=200"
   ]
  },
  {
   "cell_type": "code",
   "execution_count": 2,
   "metadata": {},
   "outputs": [],
   "source": [
    "age=26\n",
    "name=\"arsha\"\n",
    "weight=67.3\n",
    "is_female=True"
   ]
  },
  {
   "cell_type": "code",
   "execution_count": 4,
   "metadata": {},
   "outputs": [
    {
     "name": "stdout",
     "output_type": "stream",
     "text": [
      "Age: 26\n",
      "name: arsha\n",
      "Weight: 67.3\n",
      "Female: True\n"
     ]
    }
   ],
   "source": [
    "##printing the variables\n",
    "\n",
    "print(\"Age:\",age)\n",
    "print(\"name:\",name)\n",
    "print(\"Weight:\",weight)\n",
    "print(\"Female:\",is_female)"
   ]
  },
  {
   "cell_type": "code",
   "execution_count": 5,
   "metadata": {},
   "outputs": [],
   "source": [
    "## Variable naming convention\n",
    "\n",
    "##descriptive\n",
    "##start with letter or an'_' and contain letters, numbers, underscores\n",
    "## case sensitive"
   ]
  },
  {
   "cell_type": "code",
   "execution_count": 7,
   "metadata": {},
   "outputs": [],
   "source": [
    "## valid variable names\n",
    "\n",
    "first_name=\"Arsha\"\n",
    "First_name=\"nihar\"\n",
    "Last_name=\"Joy\"\n",
    "_age=26\n",
    "MyName2=\"DIYcoding\"\n",
    "\n",
    "#Invalid names\n",
    "\n",
    "#2age=30\n",
    "#first-name=\"arsha\"\n",
    "#@name=\"arsha\"\n"
   ]
  },
  {
   "cell_type": "code",
   "execution_count": 9,
   "metadata": {},
   "outputs": [
    {
     "name": "stdout",
     "output_type": "stream",
     "text": [
      "<class 'int'>\n",
      "<class 'str'>\n",
      "<class 'float'>\n",
      "<class 'bool'>\n"
     ]
    }
   ],
   "source": [
    "## Understanding variable types\n",
    "\n",
    "##dynamically typed:  type of a variable is determined at runtime\n",
    "\n",
    "age=26\n",
    "name=\"arsha\"\n",
    "weight=67.3\n",
    "is_female=True\n",
    "\n",
    "print(type(age))\n",
    "print(type(name))\n",
    "print(type(weight))\n",
    "print(type(is_female))"
   ]
  },
  {
   "cell_type": "code",
   "execution_count": 12,
   "metadata": {},
   "outputs": [
    {
     "name": "stdout",
     "output_type": "stream",
     "text": [
      "<class 'int'>\n",
      "<class 'str'>\n"
     ]
    }
   ],
   "source": [
    "## Type checking and conversion\n",
    "\n",
    "#type checking using 'type()'\n",
    "print(type(age))\n",
    "\n",
    "#type conversion or type casting\n",
    "age_str=str(age)\n",
    "\n",
    "print(type(age_str))\n",
    "\n"
   ]
  },
  {
   "cell_type": "code",
   "execution_count": 24,
   "metadata": {},
   "outputs": [],
   "source": [
    "#Type casting \n",
    "\n",
    "Integer=10\n",
    "String=\"Hello\"\n",
    "Float=40.5\n",
    "Boolean=True\n",
    "\n",
    "\n",
    "#Integer to \n",
    "Int_str=str(Integer)\n",
    "Int_float=float(Integer)\n",
    "Int_bool=bool(Integer)\n",
    "\n",
    "#String to\n",
    "#Str_int=int(String) # not possible\n",
    "#Str_float=float(String) # not possible\n",
    "Str_bool=bool(String)\n",
    "\n",
    "#Float to\n",
    "Float_int=int(Float)\n",
    "Float_str=str(Float)\n",
    "Float_bool=bool(Float)\n",
    "\n",
    "#Boolean to\n",
    "Bool_int=int(Boolean)\n",
    "Bool_str=str(Boolean)\n",
    "Bool_float=float(Boolean)\n"
   ]
  },
  {
   "cell_type": "code",
   "execution_count": 26,
   "metadata": {},
   "outputs": [
    {
     "name": "stdout",
     "output_type": "stream",
     "text": [
      "10 <class 'int'>\n",
      "arsha <class 'str'>\n",
      "70.3 <class 'float'>\n"
     ]
    }
   ],
   "source": [
    "## Dynamic typing\n",
    "\n",
    "var=10\n",
    "\n",
    "print(var, type(var))\n",
    "\n",
    "var=\"arsha\"\n",
    "print(var, type(var))\n",
    "\n",
    "var=70.3\n",
    "print(var, type(var))\n",
    "\n"
   ]
  },
  {
   "cell_type": "code",
   "execution_count": 29,
   "metadata": {},
   "outputs": [
    {
     "name": "stdout",
     "output_type": "stream",
     "text": [
      "20 <class 'str'>\n",
      "30 <class 'int'>\n"
     ]
    }
   ],
   "source": [
    "##Input\n",
    "\n",
    "age=input(\"What is the age\")\n",
    "\n",
    "print(age, type(age))\n",
    "\n",
    "age=int(input(\"Whats your age\"))\n",
    "print(age, type(age))"
   ]
  },
  {
   "cell_type": "code",
   "execution_count": 30,
   "metadata": {},
   "outputs": [
    {
     "name": "stdout",
     "output_type": "stream",
     "text": [
      "Sum: 30.0\n",
      "Difference: 10.0\n",
      "Product: 200.0\n",
      "Quotient: 2.0\n"
     ]
    }
   ],
   "source": [
    "## Simple Calculator\n",
    "\n",
    "num1=float(input(\"Enter First number: \"))\n",
    "num2=float(input(\"Enter second number: \"))\n",
    "\n",
    "sum=num1+num2\n",
    "diff=num1-num2\n",
    "prod=num1*num2\n",
    "quot=num1/num2\n",
    "\n",
    "print(\"Sum:\",sum)\n",
    "print(\"Difference:\",diff)\n",
    "print(\"Product:\",prod)\n",
    "print(\"Quotient:\",quot)"
   ]
  },
  {
   "cell_type": "code",
   "execution_count": null,
   "metadata": {},
   "outputs": [],
   "source": []
  }
 ],
 "metadata": {
  "kernelspec": {
   "display_name": "myvenv",
   "language": "python",
   "name": "python3"
  },
  "language_info": {
   "codemirror_mode": {
    "name": "ipython",
    "version": 3
   },
   "file_extension": ".py",
   "mimetype": "text/x-python",
   "name": "python",
   "nbconvert_exporter": "python",
   "pygments_lexer": "ipython3",
   "version": "3.12.4"
  }
 },
 "nbformat": 4,
 "nbformat_minor": 2
}
