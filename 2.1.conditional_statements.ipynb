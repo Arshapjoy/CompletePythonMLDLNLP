{
 "cells": [
  {
   "cell_type": "code",
   "execution_count": 8,
   "metadata": {},
   "outputs": [],
   "source": [
    "## If condition\n",
    "\n",
    "age=17\n",
    "\n",
    "if age>=20:\n",
    "    print(\"You are an adult\")\n"
   ]
  },
  {
   "cell_type": "code",
   "execution_count": 9,
   "metadata": {},
   "outputs": [
    {
     "name": "stdout",
     "output_type": "stream",
     "text": [
      "under age\n"
     ]
    }
   ],
   "source": [
    "## else statement\n",
    "#else executes a block of code if the condition in the if statement is False\n",
    "\n",
    "if age>=20:\n",
    "    print(\"You are an adult\")\n",
    "else:\n",
    "    print(\"under age\")"
   ]
  },
  {
   "cell_type": "code",
   "execution_count": 10,
   "metadata": {},
   "outputs": [
    {
     "name": "stdout",
     "output_type": "stream",
     "text": [
      "you are a teenager\n"
     ]
    }
   ],
   "source": [
    "## Elif or else if\n",
    "\n",
    "if age<13:\n",
    "    print(\"you are a child\")\n",
    "elif age<18:\n",
    "    print(\"you are a teenager\")\n",
    "else:\n",
    "    print(\"You are an adult\")"
   ]
  },
  {
   "cell_type": "code",
   "execution_count": 11,
   "metadata": {},
   "outputs": [
    {
     "name": "stdout",
     "output_type": "stream",
     "text": [
      "you are a teenager\n",
      "You should get Full A+\n"
     ]
    }
   ],
   "source": [
    "if age<13:\n",
    "    print(\"you are a child\")\n",
    "    if age<5:\n",
    "        print(\"Go home baby\")\n",
    "    else:\n",
    "        print(\"You can stay and watch kids movie\")\n",
    "elif age<18:\n",
    "    print(\"you are a teenager\")\n",
    "    if age<15:\n",
    "        print(\"Home gome and study well\")\n",
    "    else:\n",
    "        print(\"You should get Full A+\")\n",
    "else:\n",
    "    print(\"You are an adult\")"
   ]
  },
  {
   "cell_type": "code",
   "execution_count": null,
   "metadata": {},
   "outputs": [],
   "source": []
  }
 ],
 "metadata": {
  "kernelspec": {
   "display_name": "myvenv",
   "language": "python",
   "name": "python3"
  },
  "language_info": {
   "codemirror_mode": {
    "name": "ipython",
    "version": 3
   },
   "file_extension": ".py",
   "mimetype": "text/x-python",
   "name": "python",
   "nbconvert_exporter": "python",
   "pygments_lexer": "ipython3",
   "version": "3.12.4"
  }
 },
 "nbformat": 4,
 "nbformat_minor": 2
}
